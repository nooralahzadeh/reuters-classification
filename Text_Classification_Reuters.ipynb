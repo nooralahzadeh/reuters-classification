{
 "cells": [
  {
   "cell_type": "code",
   "execution_count": 3,
   "metadata": {
    "pycharm": {
     "is_executing": false
    }
   },
   "outputs": [],
   "source": [
    "import os\n",
    "from utils import parse_documents, Document, transformer\n",
    "import pickle\n",
    "import matplotlib.pyplot as plt\n",
    "import operator\n",
    "from collections import OrderedDict\n",
    "from itertools import chain\n",
    "from classifer import mdl\n",
    "\n",
    "# ignore warning in sklearn\n",
    "import warnings\n",
    "warnings.filterwarnings('ignore')\n",
    "\n",
    "    "
   ]
  },
  {
   "cell_type": "code",
   "execution_count": 6,
   "metadata": {
    "pycharm": {
     "is_executing": false,
     "name": "#%% put the reuters dataset in the root\n"
    }
   },
   "outputs": [],
   "source": [
    "datapath = \"reuters21578\"\n",
    "# get_topics(datapath,\"all-topics-strings.lc.txt\")\n",
    "corpus_name = os.path.join(datapath,\"dataset.pkl\")\n",
    "if os.path.exists(corpus_name):\n",
    "    with open(os.path.normpath(corpus_name), \"rb\") as pkl:\n",
    "        corpus = pickle.load(pkl)\n",
    "else:\n",
    "    corpus = parse_documents(datapath)\n",
    "    with open(corpus_name, \"wb\") as _file:\n",
    "        pickle.dump(corpus, _file)"
   ]
  },
  {
   "cell_type": "code",
   "execution_count": 7,
   "metadata": {
    "pycharm": {
     "is_executing": false
    }
   },
   "outputs": [
    {
     "data": {
      "text/plain": "<Figure size 432x288 with 1 Axes>",
      "image/png": "[encoded data removed]"
     },
     "metadata": {},
     "output_type": "display_data"
    }
   ],
   "source": [
    "print(\"Finished extraction step\")\n",
    "%matplotlib inline\n",
    "# some statistics\n",
    "topics_in_train=OrderedDict(sorted(corpus['topics']['train'].items(), key=operator.itemgetter(1),reverse=True))\n",
    "plt.bar(range(len(topics_in_train)), list(topics_in_train.values()), align='center')\n",
    "plt.xticks(range(len(topics_in_train)), list(topics_in_train.keys()))\n",
    "plt.xlabel('xlabel', fontsize=8)\n",
    "plt.show()\n",
    "#  highly skewed distribution of documents over topics\n"
   ]
  },
  {
   "cell_type": "code",
   "execution_count": 9,
   "metadata": {
    "pycharm": {
     "is_executing": false
    }
   },
   "outputs": [
    {
     "name": "stdout",
     "text": [
      "Micro-average\nPrecision: 0.9377, Recall: 0.7867, F1-measure: 0.8556\nMacro-average\nPrecision: 0.4759, Recall: 0.2913, F1-measure: 0.3442\n"
     ],
     "output_type": "stream"
    }
   ],
   "source": [
    "# all topics :\n",
    "print(\"Running Feature extraction step\")\n",
    "\n",
    "topics=list(set(chain(corpus['topics']['train'].keys(),corpus['topics']['test'].keys())))\n",
    "train_dataset, test_dataset=transformer(corpus['dataset'],labels=topics)\n",
    "# classifer\n",
    "print(\"Running classifier\")\n",
    "\n",
    "metrics=mdl(train_dataset,test_dataset)\n",
    "print(\"Test results:\")\n",
    "print(\"Micro-average\")\n",
    "print(\"Precision: {:.4f}, Recall: {:.4f}, F1-measure: {:.4f}\"\n",
    "      .format(metrics['micro']['P'], metrics['micro']['R'], metrics['micro']['f1']))\n",
    "####################################\n",
    "print(\"Macro-average\")\n",
    "print(\"Precision: {:.4f}, Recall: {:.4f}, F1-measure: {:.4f}\"\n",
    "      .format(metrics['macro']['P'], metrics['macro']['R'], metrics['macro']['f1']))\n",
    "\n"
   ]
  },
  {
   "cell_type": "raw",
   "metadata": {},
   "source": [
    "# Filtering based on 10 top label"
   ]
  },
  {
   "cell_type": "code",
   "execution_count": 10,
   "metadata": {
    "pycharm": {
     "is_executing": false
    }
   },
   "outputs": [
    {
     "name": "stdout",
     "text": [
      "Micro-average after filtering\nPrecision: 0.9654, Recall: 0.9215, F1-measure: 0.9429\nMicro-average after filtering\nPrecision: 0.9364, Recall: 0.8420, F1-measure: 0.8852\n"
     ],
     "output_type": "stream"
    }
   ],
   "source": [
    "\n",
    "topics_in_test=list(corpus['topics']['test'].keys())\n",
    "# filter dataset based on ten most topics\n",
    "n=10\n",
    "n_top_most_topic=[]\n",
    "for t in topics_in_train.keys():\n",
    "    if n==0:\n",
    "        break\n",
    "    if t in topics_in_test:\n",
    "        n_top_most_topic.append(t)\n",
    "        n-=1\n",
    "\n",
    "train_dataset, test_dataset = transformer(corpus['dataset'], labels=n_top_most_topic)\n",
    "\n",
    "# classifer\n",
    "metrics = mdl(train_dataset, test_dataset)\n",
    "print(\"Micro-average after filtering\")\n",
    "print(\"Precision: {:.4f}, Recall: {:.4f}, F1-measure: {:.4f}\"\n",
    "      .format(metrics['micro']['P'], metrics['micro']['R'], metrics['micro']['f1']))\n",
    "####################################\n",
    "print(\"Macro-average after filtering\")\n",
    "print(\"Precision: {:.4f}, Recall: {:.4f}, F1-measure: {:.4f}\"\n",
    "      .format(metrics['macro']['P'], metrics['macro']['R'], metrics['macro']['f1']))"
   ]
  },
  {
   "cell_type": "code",
   "execution_count": null,
   "metadata": {},
   "outputs": [],
   "source": [
    "\n",
    "\n",
    "# We have 120 topics and some of them has very small training and testing instances.\n",
    "# it seems considering N-most topics, yeilds a better performance in Micro mode.\n",
    "# I am wondering, if we use doc2vec method and use CNN or LSTM model as a classifier, \n",
    "# what would be the result?\n",
    "\n"
   ]
  }
 ],
 "metadata": {
  "kernelspec": {
   "display_name": "Python 3",
   "language": "python",
   "name": "python3"
  },
  "language_info": {
   "codemirror_mode": {
    "name": "ipython",
    "version": 3
   },
   "file_extension": ".py",
   "mimetype": "text/x-python",
   "name": "python",
   "nbconvert_exporter": "python",
   "pygments_lexer": "ipython3",
   "version": "3.6.7"
  },
  "pycharm": {
   "stem_cell": {
    "cell_type": "raw",
    "source": [],
    "metadata": {
     "collapsed": false
    }
   }
  }
 },
 "nbformat": 4,
 "nbformat_minor": 2
}